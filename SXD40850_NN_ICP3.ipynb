{
  "nbformat": 4,
  "nbformat_minor": 0,
  "metadata": {
    "colab": {
      "provenance": []
    },
    "kernelspec": {
      "name": "python3",
      "display_name": "Python 3"
    },
    "language_info": {
      "name": "python"
    }
  },
  "cells": [
    {
      "cell_type": "markdown",
      "source": [
        "1. Create a class Employee and then do the following\n",
        "\n",
        "• Create a data member to count the number of Employees\n",
        "\n",
        "• Create a constructor to initialize name, family, salary, department\n",
        "\n",
        "• Create a function to average salary\n",
        "\n",
        "• Create a Fulltime Employee class and it should inherit the properties of Employee class\n",
        "\n",
        "• Create the instances of Fulltime Employee class and Employee class and call their member functions."
      ],
      "metadata": {
        "id": "8RiG-SptKDlG"
      }
    },
    {
      "cell_type": "code",
      "source": [
        "class Employee:\n",
        "    employee_count = 0  # Data member to count the number of Employees\n",
        "\n",
        "    def __init__(self, name, family, salary, department):\n",
        "        self.name = name\n",
        "        self.family = family\n",
        "        self.salary = salary\n",
        "        self.department = department\n",
        "        Employee.employee_count += 1\n",
        "\n",
        "    def average_salary(self, total_salary):\n",
        "        return total_salary / Employee.employee_count\n",
        "\n",
        "class FulltimeEmployee(Employee):\n",
        "    # Inheriting properties from the Employee class\n",
        "    pass\n",
        "\n",
        "# Creating instances of Employee class\n",
        "employee1 = Employee(\"Sowmya\", \"Doneti\", 200000, \"IT\")\n",
        "employee2 = Employee(\"Divya\", \"Doneti\", 100000, \"HR\")\n",
        "\n",
        "# Creating instances of FulltimeEmployee class\n",
        "fulltime_employee1 = FulltimeEmployee(\"Aishwarya\", \"Pasumarthy\", 90000, \"Finance\")\n",
        "fulltime_employee2 = FulltimeEmployee(\"Sravani\", \"Kakarla\", 80000, \"Marketing\")\n",
        "\n",
        "# Calling member functions\n",
        "total_salary_employees = employee1.salary + employee2.salary\n",
        "average_salary_employees = employee1.average_salary(total_salary_employees)\n",
        "\n",
        "total_salary_fulltime_employees = fulltime_employee1.salary + fulltime_employee2.salary\n",
        "average_salary_fulltime_employees = fulltime_employee1.average_salary(total_salary_fulltime_employees)\n",
        "\n",
        "# Displaying results\n",
        "print(\"Average Salary for Employees:\", average_salary_employees)\n",
        "print(\"Average Salary for Fulltime Employees:\", average_salary_fulltime_employees)"
      ],
      "metadata": {
        "colab": {
          "base_uri": "https://localhost:8080/"
        },
        "id": "h93e0qO4LXUh",
        "outputId": "fb5e2abb-1a9f-4614-d97a-47df56d763a8"
      },
      "execution_count": 1,
      "outputs": [
        {
          "output_type": "stream",
          "name": "stdout",
          "text": [
            "Average Salary for Employees: 75000.0\n",
            "Average Salary for Fulltime Employees: 42500.0\n"
          ]
        }
      ]
    },
    {
      "cell_type": "markdown",
      "source": [
        "2. Numpy\n",
        "Using NumPy\n",
        "\n",
        "• create random vector of size 20 having only float in the range 1-20.\n",
        "\n",
        "• Then reshape the array to 4 by 5\n",
        "\n",
        "•Then replace the max in each row by 0 (axis=1)\n",
        "\n",
        "(you can NOT implement it via for loop)"
      ],
      "metadata": {
        "id": "mfC3ZXLNMMxX"
      }
    },
    {
      "cell_type": "code",
      "source": [
        "# Import the NumPy library and alias it as 'np' for brevity and convention.\n",
        "import numpy as np\n",
        "\n",
        "# Create a random vector of size 20 with floats in the range 1-20\n",
        "random_vector = np.random.uniform(1, 20, 20)\n",
        "\n",
        "print(\"Original Random Vector:\\n\", random_vector)"
      ],
      "metadata": {
        "colab": {
          "base_uri": "https://localhost:8080/"
        },
        "id": "3GBXYXagMo-G",
        "outputId": "46f4e4c8-5ee4-4b87-84dc-d1b66f0133a5"
      },
      "execution_count": 2,
      "outputs": [
        {
          "output_type": "stream",
          "name": "stdout",
          "text": [
            "Original Random Vector:\n",
            " [ 1.21417201 13.72206087  3.69395133  5.13678035 13.63686956 12.32635586\n",
            " 12.69749355 14.74491772  4.60818415 10.91818508  2.42792306 10.73722096\n",
            "  4.61403554 12.77115483 14.67241021  6.60721304  4.86627505  7.89821613\n",
            "  2.56885948  8.42527139]\n"
          ]
        }
      ]
    },
    {
      "cell_type": "code",
      "source": [
        "# Reshape the array to 4 by 5 (4 rows and 5 columns)\n",
        "reshaped_array = random_vector.reshape(4, 5)\n",
        "\n",
        "print(reshaped_array)"
      ],
      "metadata": {
        "colab": {
          "base_uri": "https://localhost:8080/"
        },
        "id": "9GTEgnzHM3t9",
        "outputId": "a89307d3-dde4-4a5e-df82-c173545e08ec"
      },
      "execution_count": 3,
      "outputs": [
        {
          "output_type": "stream",
          "name": "stdout",
          "text": [
            "[[ 1.21417201 13.72206087  3.69395133  5.13678035 13.63686956]\n",
            " [12.32635586 12.69749355 14.74491772  4.60818415 10.91818508]\n",
            " [ 2.42792306 10.73722096  4.61403554 12.77115483 14.67241021]\n",
            " [ 6.60721304  4.86627505  7.89821613  2.56885948  8.42527139]]\n"
          ]
        }
      ]
    },
    {
      "cell_type": "code",
      "source": [
        "# Replace the max in each row by 0 (axis=1)\n",
        "reshaped_array[np.arange(4), reshaped_array.argmax(axis=1)] = 0\n",
        "\n",
        "print(\"Reshaped Array:\\n\", reshaped_array)"
      ],
      "metadata": {
        "colab": {
          "base_uri": "https://localhost:8080/"
        },
        "id": "xAgGo4PFM6aR",
        "outputId": "adf8b937-d4ea-4526-acb5-ce429918ed33"
      },
      "execution_count": 4,
      "outputs": [
        {
          "output_type": "stream",
          "name": "stdout",
          "text": [
            "Reshaped Array:\n",
            " [[ 1.21417201  0.          3.69395133  5.13678035 13.63686956]\n",
            " [12.32635586 12.69749355  0.          4.60818415 10.91818508]\n",
            " [ 2.42792306 10.73722096  4.61403554 12.77115483  0.        ]\n",
            " [ 6.60721304  4.86627505  7.89821613  2.56885948  0.        ]]\n"
          ]
        }
      ]
    },
    {
      "cell_type": "markdown",
      "source": [],
      "metadata": {
        "id": "Xe88nNERK4mH"
      }
    }
  ]
}